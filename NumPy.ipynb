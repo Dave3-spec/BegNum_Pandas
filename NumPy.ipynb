{
 "cells": [
  {
   "cell_type": "markdown",
   "metadata": {},
   "source": [
    "##  Numpy Part 1\n"
   ]
  },
  {
   "cell_type": "markdown",
   "metadata": {},
   "source": [
    "#### Expected Outcome\n",
    "At the end of this session participant should be able to:\n",
    "  - Create NumPy arrays\n",
    "  - Indexing\n",
    "  - Perform array slicing\n",
    "  - Perform NumPy array computation\n",
    "  "
   ]
  },
  {
   "cell_type": "markdown",
   "metadata": {},
   "source": [
    "### Introduction to NumPy arrays\n",
    "\n",
    "NumPy is an acronym which stands for Numerical Python. NumPy’s main object is the homogeneous multidimensional array. It is a table of elements (usually numbers), all of the same type, indexed by a tuple of positive integers. In Numpy dimensions are called axes. The number of axes is rank.\n"
   ]
  },
  {
   "cell_type": "markdown",
   "metadata": {},
   "source": [
    "### Array Creation"
   ]
  },
  {
   "cell_type": "code",
   "execution_count": 2,
   "metadata": {},
   "outputs": [],
   "source": [
    "import numpy as np\n",
    "# There are several ways of creating Numpy array\n",
    "\n",
    "A = np.array([1,2,3,4])    # 1-dimensional array\n",
    "B = np.array([[1,2,4,5],[4,6,8,6]])  # 2 - dimensional array\n",
    "C = np.arange(48).reshape(4,3,4)\n",
    "D = np.arange(5)\n"
   ]
  },
  {
   "cell_type": "code",
   "execution_count": 2,
   "metadata": {},
   "outputs": [
    {
     "data": {
      "text/plain": [
       "array([[9.34600963e-307, 1.78020848e-306],\n",
       "       [1.02360867e-306, 4.45057637e-308]])"
      ]
     },
     "execution_count": 2,
     "metadata": {},
     "output_type": "execute_result"
    }
   ],
   "source": [
    "# Other ways of creating Numpy using some functions\n",
    "a = np.zeros((4,4))\n",
    "b = np.ones((3,4))\n",
    "c = np.empty((2,2))\n",
    "c"
   ]
  },
  {
   "cell_type": "markdown",
   "metadata": {},
   "source": [
    "With Numpy, important attributes such as the Dimensions, shape, size and the data type of the array created can be assessed."
   ]
  },
  {
   "cell_type": "code",
   "execution_count": 3,
   "metadata": {},
   "outputs": [
    {
     "data": {
      "text/plain": [
       "dtype('int32')"
      ]
     },
     "execution_count": 3,
     "metadata": {},
     "output_type": "execute_result"
    }
   ],
   "source": [
    "# Example\n",
    "\n",
    "B.shape\n",
    "C.ndim\n",
    "C.size\n",
    "C.dtype"
   ]
  },
  {
   "cell_type": "markdown",
   "metadata": {},
   "source": [
    "### Stacking Arrays\n",
    "\n",
    "Stacking arrays simply means joining two or more arrays of the same dimension to form one array. Stacking arrays can be done both horizontally and vertically. Numpy has functions which does the heavy lifting.\n",
    "  - vstack\n",
    "  - hstack\n",
    "\n",
    "There are others but we will be talking more one the two above, vertical stacking ($\\textit{vstack}$) which joins arrays column-wise and horizontal stacking ($\\textit{hstack}$) function does for row-wise joining."
   ]
  },
  {
   "cell_type": "code",
   "execution_count": 4,
   "metadata": {},
   "outputs": [],
   "source": [
    "# \n",
    "a = np.array([[2,3,4],[3,5,8]])\n",
    "b = np.array([[7,8,4],[6,1,5]])"
   ]
  },
  {
   "cell_type": "code",
   "execution_count": 5,
   "metadata": {},
   "outputs": [],
   "source": [
    "y = np.stack((a,b))\n",
    "w = np.vstack((a,b))\n",
    "z = np.hstack((a,b))"
   ]
  },
  {
   "cell_type": "code",
   "execution_count": 6,
   "metadata": {},
   "outputs": [
    {
     "data": {
      "text/plain": [
       "array([[[2, 3, 4],\n",
       "        [3, 5, 8]],\n",
       "\n",
       "       [[7, 8, 4],\n",
       "        [6, 1, 5]]])"
      ]
     },
     "execution_count": 6,
     "metadata": {},
     "output_type": "execute_result"
    }
   ],
   "source": [
    "y"
   ]
  },
  {
   "cell_type": "markdown",
   "metadata": {},
   "source": [
    "### Array Indexing \n",
    "\n",
    "Array indexing refers to any use of the square brackets ([ ]) to index array values. There are many options to indexing,\n",
    "which give numpy indexing great power, but with power comes some complexity and the potential for confusion. This\n",
    "section is just an overview of the various options and issues related to indexing."
   ]
  },
  {
   "cell_type": "markdown",
   "metadata": {},
   "source": [
    "#### Positve array indexing"
   ]
  },
  {
   "cell_type": "code",
   "execution_count": 5,
   "metadata": {},
   "outputs": [
    {
     "data": {
      "text/plain": [
       "21"
      ]
     },
     "execution_count": 5,
     "metadata": {},
     "output_type": "execute_result"
    }
   ],
   "source": [
    "# Positive array indexing\n",
    "a = np.array([3,4,6,7,3,21])\n",
    "a[0]          # selects element at the first position\n",
    "a[2]          # Selects element at the third position\n",
    "a[5]          # Selects element at the last or sixth position"
   ]
  },
  {
   "cell_type": "markdown",
   "metadata": {},
   "source": [
    "#### Negative array indexing"
   ]
  },
  {
   "cell_type": "code",
   "execution_count": 6,
   "metadata": {},
   "outputs": [
    {
     "data": {
      "text/plain": [
       "3"
      ]
     },
     "execution_count": 6,
     "metadata": {},
     "output_type": "execute_result"
    }
   ],
   "source": [
    "a[-1]\n",
    "a[-6]\n",
    "a[-4]"
   ]
  },
  {
   "attachments": {
    "image.png": {
     "image/png": "[encoded data removed]"
    }
   },
   "cell_type": "markdown",
   "metadata": {},
   "source": [
    "### Slicing of Arrays\n",
    "\n",
    "Slicing any array can be understood by select some part of a bigger data in an array. With the image below, understand pictorial how  slicing work\n",
    "![image.png](attachment:image.png)\n"
   ]
  },
  {
   "cell_type": "code",
   "execution_count": 3,
   "metadata": {},
   "outputs": [],
   "source": [
    "# creating the array in the image above\n",
    "a = np.arange(6)\n",
    "b = np.arange(10,16)\n",
    "c = np.arange(20,26)\n",
    "d = np.arange(30,36)\n",
    "e = np.arange(40,46)\n",
    "f = np.arange(50,56)\n"
   ]
  },
  {
   "cell_type": "code",
   "execution_count": 4,
   "metadata": {},
   "outputs": [
    {
     "data": {
      "text/plain": [
       "array([[ 0,  1,  2,  3,  4,  5],\n",
       "       [10, 11, 12, 13, 14, 15],\n",
       "       [20, 21, 22, 23, 24, 25],\n",
       "       [30, 31, 32, 33, 34, 35],\n",
       "       [40, 41, 42, 43, 44, 45],\n",
       "       [50, 51, 52, 53, 54, 55]])"
      ]
     },
     "execution_count": 4,
     "metadata": {},
     "output_type": "execute_result"
    }
   ],
   "source": [
    "Y = np.vstack((a,b,c,d,e,f))\n",
    "Y"
   ]
  },
  {
   "cell_type": "code",
   "execution_count": 53,
   "metadata": {},
   "outputs": [],
   "source": [
    "green = Y[2::2,0::2]\n",
    "red = Y[:,2]\n",
    "blue = Y[4:,4:]\n",
    "orange = Y[0,3:5]"
   ]
  },
  {
   "cell_type": "code",
   "execution_count": 55,
   "metadata": {},
   "outputs": [
    {
     "data": {
      "text/plain": [
       "array([[44, 45],\n",
       "       [54, 55]])"
      ]
     },
     "execution_count": 55,
     "metadata": {},
     "output_type": "execute_result"
    }
   ],
   "source": [
    "blue\n"
   ]
  },
  {
   "cell_type": "markdown",
   "metadata": {},
   "source": [
    "### Operators of Numpy arrays\n"
   ]
  },
  {
   "cell_type": "code",
   "execution_count": 3,
   "metadata": {},
   "outputs": [],
   "source": [
    "a = np.array([[2,3,4],[3,4,5]])\n",
    "b = np.array([[3,2,1],[6,7,4]])"
   ]
  },
  {
   "cell_type": "code",
   "execution_count": 5,
   "metadata": {},
   "outputs": [
    {
     "data": {
      "text/plain": [
       "array([[ 6,  6,  4],\n",
       "       [18, 28, 20]])"
      ]
     },
     "execution_count": 5,
     "metadata": {},
     "output_type": "execute_result"
    }
   ],
   "source": [
    "#a + b\n",
    "#a - b\n",
    "a * b\n",
    "# a.T"
   ]
  },
  {
   "cell_type": "code",
   "execution_count": 9,
   "metadata": {},
   "outputs": [
    {
     "data": {
      "text/plain": [
       "4"
      ]
     },
     "execution_count": 9,
     "metadata": {},
     "output_type": "execute_result"
    }
   ],
   "source": [
    "# We can also perform some Statistical operation on arrays\n",
    "np.mean(a)\n",
    "a = np.array([2,4,56,7,7,8,4])\n",
    "b = np.array([12,4,2,3,46,6,4])\n",
    "np.size(np.corrcoef(a,b))\n"
   ]
  },
  {
   "cell_type": "code",
   "execution_count": null,
   "metadata": {},
   "outputs": [],
   "source": []
  }
 ],
 "metadata": {
  "kernelspec": {
   "display_name": "Python 3",
   "language": "python",
   "name": "python3"
  },
  "language_info": {
   "codemirror_mode": {
    "name": "ipython",
    "version": 3
   },
   "file_extension": ".py",
   "mimetype": "text/x-python",
   "name": "python",
   "nbconvert_exporter": "python",
   "pygments_lexer": "ipython3",
   "version": "3.7.4"
  }
 },
 "nbformat": 4,
 "nbformat_minor": 2
}
